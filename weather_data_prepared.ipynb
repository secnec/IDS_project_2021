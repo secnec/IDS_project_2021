{
 "cells": [
  {
   "cell_type": "markdown",
   "metadata": {},
   "source": [
    "### Weather data 2019 - Helsinki Kumupla"
   ]
  },
  {
   "cell_type": "markdown",
   "metadata": {},
   "source": [
    "**Cloud amount:** Given in numbers out of eight: 0 = clear skies, 8 = overcast, 9 = cloud coverage could not be determined.\n",
    "\n",
    "**Precipitation intensity:** Equivalent to the precipitation amount if the same intensity prevails for an hour. To get the true 10 minute precipitation amount, divide by 6.\n",
    "\n",
    "**Wind speed:** The average wind speed during the previous 10 minutes.\n",
    "\n",
    "**Snow depth:** Snow depth from automated weather stations. Accuracy +- 2 cm. <br />\n",
    "~ Explanation for -1.0cm snow depth?"
   ]
  },
  {
   "cell_type": "code",
   "execution_count": 1,
   "metadata": {},
   "outputs": [],
   "source": [
    "import pandas as pd\n",
    "import numpy as np\n",
    "\n",
    "data_1 = pd.read_csv('weather_2019_april_august.csv')\n",
    "data_2 = pd.read_csv('weather_2019_september_october.csv')\n",
    "\n",
    "data_1 = data_1.drop(len(data_1) - 1)\n",
    "data_2 = data_2.drop(len(data_2) - 1)"
   ]
  },
  {
   "cell_type": "code",
   "execution_count": 2,
   "metadata": {},
   "outputs": [],
   "source": [
    "data = pd.concat([data_1, data_2], ignore_index=True)"
   ]
  },
  {
   "cell_type": "code",
   "execution_count": 3,
   "metadata": {},
   "outputs": [
    {
     "data": {
      "text/html": [
       "<div>\n",
       "<style scoped>\n",
       "    .dataframe tbody tr th:only-of-type {\n",
       "        vertical-align: middle;\n",
       "    }\n",
       "\n",
       "    .dataframe tbody tr th {\n",
       "        vertical-align: top;\n",
       "    }\n",
       "\n",
       "    .dataframe thead th {\n",
       "        text-align: right;\n",
       "    }\n",
       "</style>\n",
       "<table border=\"1\" class=\"dataframe\">\n",
       "  <thead>\n",
       "    <tr style=\"text-align: right;\">\n",
       "      <th></th>\n",
       "      <th>Year</th>\n",
       "      <th>m</th>\n",
       "      <th>d</th>\n",
       "      <th>Time</th>\n",
       "      <th>Cloud amount (1/8)</th>\n",
       "      <th>Relative humidity (%)</th>\n",
       "      <th>Precipitation intensity (mm/h)</th>\n",
       "      <th>Air temperature (degC)</th>\n",
       "      <th>Wind speed (m/s)</th>\n",
       "    </tr>\n",
       "  </thead>\n",
       "  <tbody>\n",
       "    <tr>\n",
       "      <th>0</th>\n",
       "      <td>2019</td>\n",
       "      <td>4</td>\n",
       "      <td>1</td>\n",
       "      <td>00:00</td>\n",
       "      <td>0.0</td>\n",
       "      <td>77.0</td>\n",
       "      <td>0.0</td>\n",
       "      <td>-0.1</td>\n",
       "      <td>4.6</td>\n",
       "    </tr>\n",
       "    <tr>\n",
       "      <th>1</th>\n",
       "      <td>2019</td>\n",
       "      <td>4</td>\n",
       "      <td>1</td>\n",
       "      <td>00:10</td>\n",
       "      <td>0.0</td>\n",
       "      <td>77.0</td>\n",
       "      <td>0.0</td>\n",
       "      <td>0.0</td>\n",
       "      <td>4.8</td>\n",
       "    </tr>\n",
       "    <tr>\n",
       "      <th>2</th>\n",
       "      <td>2019</td>\n",
       "      <td>4</td>\n",
       "      <td>1</td>\n",
       "      <td>00:20</td>\n",
       "      <td>0.0</td>\n",
       "      <td>77.0</td>\n",
       "      <td>0.0</td>\n",
       "      <td>0.1</td>\n",
       "      <td>5.1</td>\n",
       "    </tr>\n",
       "    <tr>\n",
       "      <th>3</th>\n",
       "      <td>2019</td>\n",
       "      <td>4</td>\n",
       "      <td>1</td>\n",
       "      <td>00:30</td>\n",
       "      <td>0.0</td>\n",
       "      <td>77.0</td>\n",
       "      <td>0.0</td>\n",
       "      <td>0.1</td>\n",
       "      <td>4.9</td>\n",
       "    </tr>\n",
       "    <tr>\n",
       "      <th>4</th>\n",
       "      <td>2019</td>\n",
       "      <td>4</td>\n",
       "      <td>1</td>\n",
       "      <td>00:40</td>\n",
       "      <td>0.0</td>\n",
       "      <td>76.0</td>\n",
       "      <td>0.0</td>\n",
       "      <td>0.2</td>\n",
       "      <td>5.3</td>\n",
       "    </tr>\n",
       "    <tr>\n",
       "      <th>5</th>\n",
       "      <td>2019</td>\n",
       "      <td>4</td>\n",
       "      <td>1</td>\n",
       "      <td>00:50</td>\n",
       "      <td>0.0</td>\n",
       "      <td>77.0</td>\n",
       "      <td>0.0</td>\n",
       "      <td>0.0</td>\n",
       "      <td>5.0</td>\n",
       "    </tr>\n",
       "    <tr>\n",
       "      <th>6</th>\n",
       "      <td>2019</td>\n",
       "      <td>4</td>\n",
       "      <td>1</td>\n",
       "      <td>01:00</td>\n",
       "      <td>0.0</td>\n",
       "      <td>78.0</td>\n",
       "      <td>0.0</td>\n",
       "      <td>-0.1</td>\n",
       "      <td>5.1</td>\n",
       "    </tr>\n",
       "    <tr>\n",
       "      <th>7</th>\n",
       "      <td>2019</td>\n",
       "      <td>4</td>\n",
       "      <td>1</td>\n",
       "      <td>01:10</td>\n",
       "      <td>0.0</td>\n",
       "      <td>77.0</td>\n",
       "      <td>0.0</td>\n",
       "      <td>0.0</td>\n",
       "      <td>5.2</td>\n",
       "    </tr>\n",
       "    <tr>\n",
       "      <th>8</th>\n",
       "      <td>2019</td>\n",
       "      <td>4</td>\n",
       "      <td>1</td>\n",
       "      <td>01:20</td>\n",
       "      <td>0.0</td>\n",
       "      <td>77.0</td>\n",
       "      <td>0.0</td>\n",
       "      <td>0.0</td>\n",
       "      <td>5.0</td>\n",
       "    </tr>\n",
       "    <tr>\n",
       "      <th>9</th>\n",
       "      <td>2019</td>\n",
       "      <td>4</td>\n",
       "      <td>1</td>\n",
       "      <td>01:30</td>\n",
       "      <td>0.0</td>\n",
       "      <td>78.0</td>\n",
       "      <td>0.0</td>\n",
       "      <td>0.0</td>\n",
       "      <td>4.1</td>\n",
       "    </tr>\n",
       "  </tbody>\n",
       "</table>\n",
       "</div>"
      ],
      "text/plain": [
       "   Year  m  d   Time  Cloud amount (1/8)  Relative humidity (%)  \\\n",
       "0  2019  4  1  00:00                 0.0                   77.0   \n",
       "1  2019  4  1  00:10                 0.0                   77.0   \n",
       "2  2019  4  1  00:20                 0.0                   77.0   \n",
       "3  2019  4  1  00:30                 0.0                   77.0   \n",
       "4  2019  4  1  00:40                 0.0                   76.0   \n",
       "5  2019  4  1  00:50                 0.0                   77.0   \n",
       "6  2019  4  1  01:00                 0.0                   78.0   \n",
       "7  2019  4  1  01:10                 0.0                   77.0   \n",
       "8  2019  4  1  01:20                 0.0                   77.0   \n",
       "9  2019  4  1  01:30                 0.0                   78.0   \n",
       "\n",
       "   Precipitation intensity (mm/h)  Air temperature (degC)  Wind speed (m/s)  \n",
       "0                             0.0                    -0.1               4.6  \n",
       "1                             0.0                     0.0               4.8  \n",
       "2                             0.0                     0.1               5.1  \n",
       "3                             0.0                     0.1               4.9  \n",
       "4                             0.0                     0.2               5.3  \n",
       "5                             0.0                     0.0               5.0  \n",
       "6                             0.0                    -0.1               5.1  \n",
       "7                             0.0                     0.0               5.2  \n",
       "8                             0.0                     0.0               5.0  \n",
       "9                             0.0                     0.0               4.1  "
      ]
     },
     "execution_count": 3,
     "metadata": {},
     "output_type": "execute_result"
    }
   ],
   "source": [
    "data = data.drop(columns=['Time zone', 'Snow depth (cm)'])\n",
    "\n",
    "data.head(10)"
   ]
  },
  {
   "cell_type": "code",
   "execution_count": 4,
   "metadata": {},
   "outputs": [
    {
     "name": "stdout",
     "output_type": "stream",
     "text": [
      "Number of data points: 30816\n"
     ]
    }
   ],
   "source": [
    "print('Number of data points:', len(data))"
   ]
  },
  {
   "cell_type": "markdown",
   "metadata": {},
   "source": [
    "**Minimum and maximum**"
   ]
  },
  {
   "cell_type": "code",
   "execution_count": 5,
   "metadata": {},
   "outputs": [
    {
     "name": "stdout",
     "output_type": "stream",
     "text": [
      "Cloud amount (1/8)\n",
      "Min:0.0\n",
      "Max:9.0\n",
      "\n",
      "Relative humidity (%)\n",
      "Min:21.0\n",
      "Max:100.0\n",
      "\n",
      "Precipitation intensity (mm/h)\n",
      "Min:0.0\n",
      "Max:28.3\n",
      "\n",
      "Air temperature (degC)\n",
      "Min:-4.5\n",
      "Max:33.1\n",
      "\n",
      "Wind speed (m/s)\n",
      "Min:0.0\n",
      "Max:11.5\n",
      "\n"
     ]
    }
   ],
   "source": [
    "cat = ['Cloud amount (1/8)', 'Relative humidity (%)', 'Precipitation intensity (mm/h)', \n",
    "       'Air temperature (degC)', 'Wind speed (m/s)']\n",
    "\n",
    "for i in cat:\n",
    "    print(i)\n",
    "    print('Min:' + str(data[i].min()))\n",
    "    print('Max:' + str(data[i].max()) + '\\n')"
   ]
  },
  {
   "cell_type": "markdown",
   "metadata": {},
   "source": [
    "**Fill NaNs**"
   ]
  },
  {
   "cell_type": "code",
   "execution_count": 6,
   "metadata": {},
   "outputs": [
    {
     "name": "stdout",
     "output_type": "stream",
     "text": [
      "20 NaNs in Cloud amount\n",
      "24 NaNs in Precipitation intensity\n",
      "20 NaNs in Relative humidity\n",
      "20 NaNs in Air temperature\n",
      "47 NaNs in Wind speed\n"
     ]
    }
   ],
   "source": [
    "print(data['Cloud amount (1/8)'].isna().sum(), 'NaNs in Cloud amount')\n",
    "print(data['Precipitation intensity (mm/h)'].isna().sum(), 'NaNs in Precipitation intensity')\n",
    "print(data['Relative humidity (%)'].isna().sum(), 'NaNs in Relative humidity')\n",
    "print(data['Air temperature (degC)'].isna().sum(), 'NaNs in Air temperature')\n",
    "print(data['Wind speed (m/s)'].isna().sum(), 'NaNs in Wind speed')"
   ]
  },
  {
   "cell_type": "code",
   "execution_count": 7,
   "metadata": {},
   "outputs": [],
   "source": [
    "types = ['Cloud amount (1/8)', 'Precipitation intensity (mm/h)', 'Relative humidity (%)',\n",
    "            'Air temperature (degC)', 'Wind speed (m/s)']\n",
    "\n",
    "for typ in types:\n",
    "    for i in range(len(data)):\n",
    "        if np.isnan(data[typ][i]):\n",
    "            \n",
    "            j = 1\n",
    "            up = data[typ][i - j]\n",
    "            while np.isnan(up):\n",
    "                up = data[typ][i - j]\n",
    "                j += 1\n",
    "                \n",
    "            k = 1\n",
    "            down = data[typ][i + k]\n",
    "            while np.isnan(down):\n",
    "                down = data[typ][i + k]\n",
    "                k += 1\n",
    "                \n",
    "            avg = (up + down) / 2\n",
    "            data.loc[i, typ] = avg"
   ]
  },
  {
   "cell_type": "code",
   "execution_count": 8,
   "metadata": {},
   "outputs": [
    {
     "name": "stdout",
     "output_type": "stream",
     "text": [
      "0 NaNs in Cloud amount\n",
      "0 NaNs in Precipitation intensity\n",
      "0 NaNs in Relative humidity\n",
      "0 NaNs in Air temperature\n",
      "0 NaNs in Wind speed\n"
     ]
    }
   ],
   "source": [
    "print(data['Cloud amount (1/8)'].isna().sum(), 'NaNs in Cloud amount')\n",
    "print(data['Precipitation intensity (mm/h)'].isna().sum(), 'NaNs in Precipitation intensity')\n",
    "print(data['Relative humidity (%)'].isna().sum(), 'NaNs in Relative humidity')\n",
    "print(data['Air temperature (degC)'].isna().sum(), 'NaNs in Air temperature')\n",
    "print(data['Wind speed (m/s)'].isna().sum(), 'NaNs in Wind speed')"
   ]
  },
  {
   "cell_type": "markdown",
   "metadata": {},
   "source": [
    "**Upscale data**"
   ]
  },
  {
   "cell_type": "markdown",
   "metadata": {},
   "source": [
    "Copy data"
   ]
  },
  {
   "cell_type": "code",
   "execution_count": 9,
   "metadata": {},
   "outputs": [],
   "source": [
    "data_5min = []\n",
    "\n",
    "for i in range(len(data)):\n",
    "    data_5min.append(data.iloc[i])\n",
    "    data_5min.append(data.iloc[i])"
   ]
  },
  {
   "cell_type": "code",
   "execution_count": 10,
   "metadata": {},
   "outputs": [],
   "source": [
    "index_5min = list(range(len(data_5min)))\n",
    "\n",
    "data_5min = pd.DataFrame(data_5min, index=index_5min)"
   ]
  },
  {
   "cell_type": "markdown",
   "metadata": {},
   "source": [
    "Adapt timestamp"
   ]
  },
  {
   "cell_type": "code",
   "execution_count": 12,
   "metadata": {},
   "outputs": [],
   "source": [
    "for i in range(1, len(data_5min), 2):\n",
    "    data_5min.loc[i, 'Time'] = data_5min['Time'][i][:-1] + '5'"
   ]
  },
  {
   "cell_type": "code",
   "execution_count": 13,
   "metadata": {},
   "outputs": [
    {
     "data": {
      "text/html": [
       "<div>\n",
       "<style scoped>\n",
       "    .dataframe tbody tr th:only-of-type {\n",
       "        vertical-align: middle;\n",
       "    }\n",
       "\n",
       "    .dataframe tbody tr th {\n",
       "        vertical-align: top;\n",
       "    }\n",
       "\n",
       "    .dataframe thead th {\n",
       "        text-align: right;\n",
       "    }\n",
       "</style>\n",
       "<table border=\"1\" class=\"dataframe\">\n",
       "  <thead>\n",
       "    <tr style=\"text-align: right;\">\n",
       "      <th></th>\n",
       "      <th>Year</th>\n",
       "      <th>m</th>\n",
       "      <th>d</th>\n",
       "      <th>Time</th>\n",
       "      <th>Cloud amount (1/8)</th>\n",
       "      <th>Relative humidity (%)</th>\n",
       "      <th>Precipitation intensity (mm/h)</th>\n",
       "      <th>Air temperature (degC)</th>\n",
       "      <th>Wind speed (m/s)</th>\n",
       "    </tr>\n",
       "  </thead>\n",
       "  <tbody>\n",
       "    <tr>\n",
       "      <th>0</th>\n",
       "      <td>2019</td>\n",
       "      <td>4</td>\n",
       "      <td>1</td>\n",
       "      <td>00:00</td>\n",
       "      <td>0.0</td>\n",
       "      <td>77.0</td>\n",
       "      <td>0.0</td>\n",
       "      <td>-0.1</td>\n",
       "      <td>4.6</td>\n",
       "    </tr>\n",
       "    <tr>\n",
       "      <th>1</th>\n",
       "      <td>2019</td>\n",
       "      <td>4</td>\n",
       "      <td>1</td>\n",
       "      <td>00:05</td>\n",
       "      <td>0.0</td>\n",
       "      <td>77.0</td>\n",
       "      <td>0.0</td>\n",
       "      <td>-0.1</td>\n",
       "      <td>4.6</td>\n",
       "    </tr>\n",
       "    <tr>\n",
       "      <th>2</th>\n",
       "      <td>2019</td>\n",
       "      <td>4</td>\n",
       "      <td>1</td>\n",
       "      <td>00:10</td>\n",
       "      <td>0.0</td>\n",
       "      <td>77.0</td>\n",
       "      <td>0.0</td>\n",
       "      <td>0.0</td>\n",
       "      <td>4.8</td>\n",
       "    </tr>\n",
       "    <tr>\n",
       "      <th>3</th>\n",
       "      <td>2019</td>\n",
       "      <td>4</td>\n",
       "      <td>1</td>\n",
       "      <td>00:15</td>\n",
       "      <td>0.0</td>\n",
       "      <td>77.0</td>\n",
       "      <td>0.0</td>\n",
       "      <td>0.0</td>\n",
       "      <td>4.8</td>\n",
       "    </tr>\n",
       "    <tr>\n",
       "      <th>4</th>\n",
       "      <td>2019</td>\n",
       "      <td>4</td>\n",
       "      <td>1</td>\n",
       "      <td>00:20</td>\n",
       "      <td>0.0</td>\n",
       "      <td>77.0</td>\n",
       "      <td>0.0</td>\n",
       "      <td>0.1</td>\n",
       "      <td>5.1</td>\n",
       "    </tr>\n",
       "    <tr>\n",
       "      <th>...</th>\n",
       "      <td>...</td>\n",
       "      <td>...</td>\n",
       "      <td>...</td>\n",
       "      <td>...</td>\n",
       "      <td>...</td>\n",
       "      <td>...</td>\n",
       "      <td>...</td>\n",
       "      <td>...</td>\n",
       "      <td>...</td>\n",
       "    </tr>\n",
       "    <tr>\n",
       "      <th>61627</th>\n",
       "      <td>2019</td>\n",
       "      <td>10</td>\n",
       "      <td>31</td>\n",
       "      <td>23:35</td>\n",
       "      <td>0.0</td>\n",
       "      <td>95.0</td>\n",
       "      <td>0.0</td>\n",
       "      <td>0.3</td>\n",
       "      <td>5.3</td>\n",
       "    </tr>\n",
       "    <tr>\n",
       "      <th>61628</th>\n",
       "      <td>2019</td>\n",
       "      <td>10</td>\n",
       "      <td>31</td>\n",
       "      <td>23:40</td>\n",
       "      <td>0.0</td>\n",
       "      <td>94.0</td>\n",
       "      <td>0.0</td>\n",
       "      <td>0.4</td>\n",
       "      <td>5.3</td>\n",
       "    </tr>\n",
       "    <tr>\n",
       "      <th>61629</th>\n",
       "      <td>2019</td>\n",
       "      <td>10</td>\n",
       "      <td>31</td>\n",
       "      <td>23:45</td>\n",
       "      <td>0.0</td>\n",
       "      <td>94.0</td>\n",
       "      <td>0.0</td>\n",
       "      <td>0.4</td>\n",
       "      <td>5.3</td>\n",
       "    </tr>\n",
       "    <tr>\n",
       "      <th>61630</th>\n",
       "      <td>2019</td>\n",
       "      <td>10</td>\n",
       "      <td>31</td>\n",
       "      <td>23:50</td>\n",
       "      <td>0.0</td>\n",
       "      <td>94.0</td>\n",
       "      <td>0.0</td>\n",
       "      <td>0.1</td>\n",
       "      <td>4.6</td>\n",
       "    </tr>\n",
       "    <tr>\n",
       "      <th>61631</th>\n",
       "      <td>2019</td>\n",
       "      <td>10</td>\n",
       "      <td>31</td>\n",
       "      <td>23:55</td>\n",
       "      <td>0.0</td>\n",
       "      <td>94.0</td>\n",
       "      <td>0.0</td>\n",
       "      <td>0.1</td>\n",
       "      <td>4.6</td>\n",
       "    </tr>\n",
       "  </tbody>\n",
       "</table>\n",
       "<p>61632 rows × 9 columns</p>\n",
       "</div>"
      ],
      "text/plain": [
       "       Year   m   d   Time  Cloud amount (1/8)  Relative humidity (%)  \\\n",
       "0      2019   4   1  00:00                 0.0                   77.0   \n",
       "1      2019   4   1  00:05                 0.0                   77.0   \n",
       "2      2019   4   1  00:10                 0.0                   77.0   \n",
       "3      2019   4   1  00:15                 0.0                   77.0   \n",
       "4      2019   4   1  00:20                 0.0                   77.0   \n",
       "...     ...  ..  ..    ...                 ...                    ...   \n",
       "61627  2019  10  31  23:35                 0.0                   95.0   \n",
       "61628  2019  10  31  23:40                 0.0                   94.0   \n",
       "61629  2019  10  31  23:45                 0.0                   94.0   \n",
       "61630  2019  10  31  23:50                 0.0                   94.0   \n",
       "61631  2019  10  31  23:55                 0.0                   94.0   \n",
       "\n",
       "       Precipitation intensity (mm/h)  Air temperature (degC)  \\\n",
       "0                                 0.0                    -0.1   \n",
       "1                                 0.0                    -0.1   \n",
       "2                                 0.0                     0.0   \n",
       "3                                 0.0                     0.0   \n",
       "4                                 0.0                     0.1   \n",
       "...                               ...                     ...   \n",
       "61627                             0.0                     0.3   \n",
       "61628                             0.0                     0.4   \n",
       "61629                             0.0                     0.4   \n",
       "61630                             0.0                     0.1   \n",
       "61631                             0.0                     0.1   \n",
       "\n",
       "       Wind speed (m/s)  \n",
       "0                   4.6  \n",
       "1                   4.6  \n",
       "2                   4.8  \n",
       "3                   4.8  \n",
       "4                   5.1  \n",
       "...                 ...  \n",
       "61627               5.3  \n",
       "61628               5.3  \n",
       "61629               5.3  \n",
       "61630               4.6  \n",
       "61631               4.6  \n",
       "\n",
       "[61632 rows x 9 columns]"
      ]
     },
     "execution_count": 13,
     "metadata": {},
     "output_type": "execute_result"
    }
   ],
   "source": [
    "data_5min"
   ]
  },
  {
   "cell_type": "markdown",
   "metadata": {},
   "source": [
    "**Create timestamp**"
   ]
  },
  {
   "cell_type": "code",
   "execution_count": 15,
   "metadata": {},
   "outputs": [],
   "source": [
    "months = [str(i).zfill(2) for i in data_5min['m']]\n",
    "days = [str(i).zfill(2) for i in data_5min['d']]"
   ]
  },
  {
   "cell_type": "code",
   "execution_count": 17,
   "metadata": {},
   "outputs": [],
   "source": [
    "timestamps = [str(data_5min['Year'][i]) + str(months[i]) + str(days[i]) + data_5min['Time'][i][:2] \n",
    "              + data_5min['Time'][i][3:] for i in range(len(data_5min))]\n",
    "\n",
    "# timestamps = [str(data['Year'][i]) + '/' + str(months[i]) + '/' + str(days[i]) + ' ' + str(data['Time'][i]) + ':00'\n",
    "#               for i in range(len(data))]\n",
    "\n",
    "data_5min['Timestamp'] = pd.to_datetime(timestamps)"
   ]
  },
  {
   "cell_type": "code",
   "execution_count": 7,
   "metadata": {},
   "outputs": [],
   "source": [
    "#data = data.drop(columns=['Year', 'm', 'd', 'Time'])"
   ]
  },
  {
   "cell_type": "code",
   "execution_count": 18,
   "metadata": {},
   "outputs": [
    {
     "data": {
      "text/html": [
       "<div>\n",
       "<style scoped>\n",
       "    .dataframe tbody tr th:only-of-type {\n",
       "        vertical-align: middle;\n",
       "    }\n",
       "\n",
       "    .dataframe tbody tr th {\n",
       "        vertical-align: top;\n",
       "    }\n",
       "\n",
       "    .dataframe thead th {\n",
       "        text-align: right;\n",
       "    }\n",
       "</style>\n",
       "<table border=\"1\" class=\"dataframe\">\n",
       "  <thead>\n",
       "    <tr style=\"text-align: right;\">\n",
       "      <th></th>\n",
       "      <th>Year</th>\n",
       "      <th>m</th>\n",
       "      <th>d</th>\n",
       "      <th>Time</th>\n",
       "      <th>Cloud amount (1/8)</th>\n",
       "      <th>Relative humidity (%)</th>\n",
       "      <th>Precipitation intensity (mm/h)</th>\n",
       "      <th>Air temperature (degC)</th>\n",
       "      <th>Wind speed (m/s)</th>\n",
       "      <th>Timestamp</th>\n",
       "    </tr>\n",
       "  </thead>\n",
       "  <tbody>\n",
       "    <tr>\n",
       "      <th>0</th>\n",
       "      <td>2019</td>\n",
       "      <td>4</td>\n",
       "      <td>1</td>\n",
       "      <td>00:00</td>\n",
       "      <td>0.0</td>\n",
       "      <td>77.0</td>\n",
       "      <td>0.0</td>\n",
       "      <td>-0.1</td>\n",
       "      <td>4.6</td>\n",
       "      <td>2019-04-01 00:00:00</td>\n",
       "    </tr>\n",
       "    <tr>\n",
       "      <th>1</th>\n",
       "      <td>2019</td>\n",
       "      <td>4</td>\n",
       "      <td>1</td>\n",
       "      <td>00:05</td>\n",
       "      <td>0.0</td>\n",
       "      <td>77.0</td>\n",
       "      <td>0.0</td>\n",
       "      <td>-0.1</td>\n",
       "      <td>4.6</td>\n",
       "      <td>2019-04-01 00:05:00</td>\n",
       "    </tr>\n",
       "    <tr>\n",
       "      <th>2</th>\n",
       "      <td>2019</td>\n",
       "      <td>4</td>\n",
       "      <td>1</td>\n",
       "      <td>00:10</td>\n",
       "      <td>0.0</td>\n",
       "      <td>77.0</td>\n",
       "      <td>0.0</td>\n",
       "      <td>0.0</td>\n",
       "      <td>4.8</td>\n",
       "      <td>2019-04-01 00:10:00</td>\n",
       "    </tr>\n",
       "    <tr>\n",
       "      <th>3</th>\n",
       "      <td>2019</td>\n",
       "      <td>4</td>\n",
       "      <td>1</td>\n",
       "      <td>00:15</td>\n",
       "      <td>0.0</td>\n",
       "      <td>77.0</td>\n",
       "      <td>0.0</td>\n",
       "      <td>0.0</td>\n",
       "      <td>4.8</td>\n",
       "      <td>2019-04-01 00:15:00</td>\n",
       "    </tr>\n",
       "    <tr>\n",
       "      <th>4</th>\n",
       "      <td>2019</td>\n",
       "      <td>4</td>\n",
       "      <td>1</td>\n",
       "      <td>00:20</td>\n",
       "      <td>0.0</td>\n",
       "      <td>77.0</td>\n",
       "      <td>0.0</td>\n",
       "      <td>0.1</td>\n",
       "      <td>5.1</td>\n",
       "      <td>2019-04-01 00:20:00</td>\n",
       "    </tr>\n",
       "    <tr>\n",
       "      <th>...</th>\n",
       "      <td>...</td>\n",
       "      <td>...</td>\n",
       "      <td>...</td>\n",
       "      <td>...</td>\n",
       "      <td>...</td>\n",
       "      <td>...</td>\n",
       "      <td>...</td>\n",
       "      <td>...</td>\n",
       "      <td>...</td>\n",
       "      <td>...</td>\n",
       "    </tr>\n",
       "    <tr>\n",
       "      <th>61627</th>\n",
       "      <td>2019</td>\n",
       "      <td>10</td>\n",
       "      <td>31</td>\n",
       "      <td>23:35</td>\n",
       "      <td>0.0</td>\n",
       "      <td>95.0</td>\n",
       "      <td>0.0</td>\n",
       "      <td>0.3</td>\n",
       "      <td>5.3</td>\n",
       "      <td>2019-10-31 23:35:00</td>\n",
       "    </tr>\n",
       "    <tr>\n",
       "      <th>61628</th>\n",
       "      <td>2019</td>\n",
       "      <td>10</td>\n",
       "      <td>31</td>\n",
       "      <td>23:40</td>\n",
       "      <td>0.0</td>\n",
       "      <td>94.0</td>\n",
       "      <td>0.0</td>\n",
       "      <td>0.4</td>\n",
       "      <td>5.3</td>\n",
       "      <td>2019-10-31 23:40:00</td>\n",
       "    </tr>\n",
       "    <tr>\n",
       "      <th>61629</th>\n",
       "      <td>2019</td>\n",
       "      <td>10</td>\n",
       "      <td>31</td>\n",
       "      <td>23:45</td>\n",
       "      <td>0.0</td>\n",
       "      <td>94.0</td>\n",
       "      <td>0.0</td>\n",
       "      <td>0.4</td>\n",
       "      <td>5.3</td>\n",
       "      <td>2019-10-31 23:45:00</td>\n",
       "    </tr>\n",
       "    <tr>\n",
       "      <th>61630</th>\n",
       "      <td>2019</td>\n",
       "      <td>10</td>\n",
       "      <td>31</td>\n",
       "      <td>23:50</td>\n",
       "      <td>0.0</td>\n",
       "      <td>94.0</td>\n",
       "      <td>0.0</td>\n",
       "      <td>0.1</td>\n",
       "      <td>4.6</td>\n",
       "      <td>2019-10-31 23:50:00</td>\n",
       "    </tr>\n",
       "    <tr>\n",
       "      <th>61631</th>\n",
       "      <td>2019</td>\n",
       "      <td>10</td>\n",
       "      <td>31</td>\n",
       "      <td>23:55</td>\n",
       "      <td>0.0</td>\n",
       "      <td>94.0</td>\n",
       "      <td>0.0</td>\n",
       "      <td>0.1</td>\n",
       "      <td>4.6</td>\n",
       "      <td>2019-10-31 23:55:00</td>\n",
       "    </tr>\n",
       "  </tbody>\n",
       "</table>\n",
       "<p>61632 rows × 10 columns</p>\n",
       "</div>"
      ],
      "text/plain": [
       "       Year   m   d   Time  Cloud amount (1/8)  Relative humidity (%)  \\\n",
       "0      2019   4   1  00:00                 0.0                   77.0   \n",
       "1      2019   4   1  00:05                 0.0                   77.0   \n",
       "2      2019   4   1  00:10                 0.0                   77.0   \n",
       "3      2019   4   1  00:15                 0.0                   77.0   \n",
       "4      2019   4   1  00:20                 0.0                   77.0   \n",
       "...     ...  ..  ..    ...                 ...                    ...   \n",
       "61627  2019  10  31  23:35                 0.0                   95.0   \n",
       "61628  2019  10  31  23:40                 0.0                   94.0   \n",
       "61629  2019  10  31  23:45                 0.0                   94.0   \n",
       "61630  2019  10  31  23:50                 0.0                   94.0   \n",
       "61631  2019  10  31  23:55                 0.0                   94.0   \n",
       "\n",
       "       Precipitation intensity (mm/h)  Air temperature (degC)  \\\n",
       "0                                 0.0                    -0.1   \n",
       "1                                 0.0                    -0.1   \n",
       "2                                 0.0                     0.0   \n",
       "3                                 0.0                     0.0   \n",
       "4                                 0.0                     0.1   \n",
       "...                               ...                     ...   \n",
       "61627                             0.0                     0.3   \n",
       "61628                             0.0                     0.4   \n",
       "61629                             0.0                     0.4   \n",
       "61630                             0.0                     0.1   \n",
       "61631                             0.0                     0.1   \n",
       "\n",
       "       Wind speed (m/s)           Timestamp  \n",
       "0                   4.6 2019-04-01 00:00:00  \n",
       "1                   4.6 2019-04-01 00:05:00  \n",
       "2                   4.8 2019-04-01 00:10:00  \n",
       "3                   4.8 2019-04-01 00:15:00  \n",
       "4                   5.1 2019-04-01 00:20:00  \n",
       "...                 ...                 ...  \n",
       "61627               5.3 2019-10-31 23:35:00  \n",
       "61628               5.3 2019-10-31 23:40:00  \n",
       "61629               5.3 2019-10-31 23:45:00  \n",
       "61630               4.6 2019-10-31 23:50:00  \n",
       "61631               4.6 2019-10-31 23:55:00  \n",
       "\n",
       "[61632 rows x 10 columns]"
      ]
     },
     "execution_count": 18,
     "metadata": {},
     "output_type": "execute_result"
    }
   ],
   "source": [
    "data_5min"
   ]
  },
  {
   "cell_type": "markdown",
   "metadata": {},
   "source": [
    "**Save as csv**"
   ]
  },
  {
   "cell_type": "code",
   "execution_count": 19,
   "metadata": {},
   "outputs": [],
   "source": [
    "data.to_csv('weather_2019_prepared.csv')"
   ]
  },
  {
   "cell_type": "code",
   "execution_count": 20,
   "metadata": {},
   "outputs": [],
   "source": [
    "data_5min.to_csv('weather_2019_upscale.csv')"
   ]
  },
  {
   "cell_type": "markdown",
   "metadata": {},
   "source": [
    "### Some analysis"
   ]
  },
  {
   "cell_type": "code",
   "execution_count": 21,
   "metadata": {},
   "outputs": [],
   "source": [
    "import matplotlib.pyplot as plt"
   ]
  },
  {
   "cell_type": "code",
   "execution_count": 22,
   "metadata": {},
   "outputs": [
    {
     "data": {
      "image/png": "[encoded data removed]",
      "text/plain": [
       "<Figure size 432x288 with 1 Axes>"
      ]
     },
     "metadata": {
      "needs_background": "light"
     },
     "output_type": "display_data"
    }
   ],
   "source": [
    "b = list(range(0, 11))\n",
    "\n",
    "plt.hist(data['Cloud amount (1/8)'], bins=b)\n",
    "plt.show()"
   ]
  },
  {
   "cell_type": "code",
   "execution_count": 23,
   "metadata": {},
   "outputs": [
    {
     "data": {
      "image/png": "[encoded data removed]",
      "text/plain": [
       "<Figure size 432x288 with 1 Axes>"
      ]
     },
     "metadata": {
      "needs_background": "light"
     },
     "output_type": "display_data"
    }
   ],
   "source": [
    "b = list(range(20, 105, 5))\n",
    "\n",
    "plt.hist(data['Relative humidity (%)'], bins=b)\n",
    "plt.show()"
   ]
  },
  {
   "cell_type": "code",
   "execution_count": 24,
   "metadata": {},
   "outputs": [
    {
     "data": {
      "image/png": "[encoded data removed]",
      "text/plain": [
       "<Figure size 432x288 with 1 Axes>"
      ]
     },
     "metadata": {
      "needs_background": "light"
     },
     "output_type": "display_data"
    }
   ],
   "source": [
    "b = list(range(0, 30))\n",
    "\n",
    "plt.hist(data['Precipitation intensity (mm/h)'], bins=b)\n",
    "plt.yscale('log')\n",
    "plt.show()"
   ]
  },
  {
   "cell_type": "code",
   "execution_count": 25,
   "metadata": {},
   "outputs": [
    {
     "data": {
      "image/png": "[encoded data removed]",
      "text/plain": [
       "<Figure size 432x288 with 1 Axes>"
      ]
     },
     "metadata": {
      "needs_background": "light"
     },
     "output_type": "display_data"
    }
   ],
   "source": [
    "b = list(range(-6, 36, 1))\n",
    "\n",
    "plt.hist(data['Air temperature (degC)'], bins=b)\n",
    "plt.show()"
   ]
  },
  {
   "cell_type": "code",
   "execution_count": 26,
   "metadata": {},
   "outputs": [
    {
     "data": {
      "image/png": "[encoded data removed]",
      "text/plain": [
       "<Figure size 432x288 with 1 Axes>"
      ]
     },
     "metadata": {
      "needs_background": "light"
     },
     "output_type": "display_data"
    }
   ],
   "source": [
    "b = list(np.arange(0, 12, 0.5))\n",
    "\n",
    "plt.hist(data['Wind speed (m/s)'], bins=b)\n",
    "plt.show()"
   ]
  }
 ],
 "metadata": {
  "kernelspec": {
   "display_name": "Python 3",
   "language": "python",
   "name": "python3"
  },
  "language_info": {
   "codemirror_mode": {
    "name": "ipython",
    "version": 3
   },
   "file_extension": ".py",
   "mimetype": "text/x-python",
   "name": "python",
   "nbconvert_exporter": "python",
   "pygments_lexer": "ipython3",
   "version": "3.8.5"
  }
 },
 "nbformat": 4,
 "nbformat_minor": 4
}

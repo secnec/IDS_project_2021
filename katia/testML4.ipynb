{
 "cells": [
  {
   "cell_type": "code",
   "execution_count": 1,
   "metadata": {},
   "outputs": [],
   "source": [
    "import pandas as pd\n",
    "from sklearn.model_selection import train_test_split\n",
    "from sklearn.neural_network import MLPRegressor"
   ]
  },
  {
   "cell_type": "code",
   "execution_count": 2,
   "metadata": {},
   "outputs": [
    {
     "name": "stderr",
     "output_type": "stream",
     "text": [
      "C:\\Users\\katio\\AppData\\Local\\Programs\\Python\\Python37\\lib\\site-packages\\numpy\\lib\\arraysetops.py:580: FutureWarning: elementwise comparison failed; returning scalar instead, but in the future will perform elementwise comparison\n",
      "  mask |= (ar1 == a)\n",
      "C:\\Users\\katio\\AppData\\Local\\Programs\\Python\\Python37\\lib\\site-packages\\sklearn\\neural_network\\_multilayer_perceptron.py:619: UserWarning: Training interrupted by user.\n",
      "  warnings.warn(\"Training interrupted by user.\")\n"
     ]
    },
    {
     "name": "stdout",
     "output_type": "stream",
     "text": [
      "[0.72663675 1.26932464 1.13389412 ... 0.82172003 0.99029982 0.69115351]\n",
      "[1 2 7 ... 1 2 1]\n"
     ]
    }
   ],
   "source": [
    "bike_arrivals = pd.read_csv(\"final_arrivals_data.csv\",header=0,index_col=0)\n",
    "\n",
    "X = bike_arrivals[['id','time','day_of_week','day_of_year','Cloud amount (1/8)','Relative humidity (%)','Precipitation intensity (mm/h)','Air temperature (degC)','Wind speed (m/s)']].values.reshape(-1, 9)\n",
    "y = bike_arrivals['arrivals'].values.reshape(-1, 1).ravel()\n",
    "\n",
    "X_train, X_test, y_train, y_test = train_test_split(X, y, test_size=0.33, random_state=42)\n",
    "\n",
    "model = MLPRegressor(random_state = 1)\n",
    "model.fit(X_train,y_train)\n",
    "\n",
    "print(model.predict(X_test))\n",
    "print(y_test)"
   ]
  },
  {
   "cell_type": "code",
   "execution_count": null,
   "metadata": {},
   "outputs": [],
   "source": [
    "round_predict = [ round(elem) for elem in model.predict(X_test) ]"
   ]
  },
  {
   "cell_type": "code",
   "execution_count": null,
   "metadata": {},
   "outputs": [
    {
     "data": {
      "text/plain": [
       "0.9398077641529158"
      ]
     },
     "execution_count": 5,
     "metadata": {},
     "output_type": "execute_result"
    }
   ],
   "source": [
    "sum(abs(a-b) <=1 for a,b in zip(round_predict,list(y_test.reshape(1, -1)[0])))/len(list(y_test.reshape(1, -1)[0]))"
   ]
  },
  {
   "cell_type": "code",
   "execution_count": null,
   "metadata": {},
   "outputs": [
    {
     "data": {
      "text/plain": [
       "0.6152141202976422"
      ]
     },
     "execution_count": 6,
     "metadata": {},
     "output_type": "execute_result"
    }
   ],
   "source": [
    "sum(abs(a-b) ==0 for a,b in zip(round_predict,list(y_test.reshape(1, -1)[0])))/len(list(y_test.reshape(1, -1)[0]))"
   ]
  },
  {
   "cell_type": "code",
   "execution_count": null,
   "metadata": {},
   "outputs": [
    {
     "name": "stderr",
     "output_type": "stream",
     "text": [
      "C:\\Users\\katio\\AppData\\Local\\Programs\\Python\\Python37\\lib\\site-packages\\numpy\\lib\\arraysetops.py:580: FutureWarning: elementwise comparison failed; returning scalar instead, but in the future will perform elementwise comparison\n",
      "  mask |= (ar1 == a)\n"
     ]
    },
    {
     "name": "stdout",
     "output_type": "stream",
     "text": [
      "[1.59596032 1.71208212 1.9976011  ... 1.3849168  1.81999374 1.45049989]\n",
      "[1 2 2 ... 1 1 1]\n"
     ]
    }
   ],
   "source": [
    "bike_departures = pd.read_csv(\"final_departures_data.csv\",header=0,index_col=0)\n",
    "\n",
    "X = bike_departures [['id','time','day_of_week','day_of_year','Cloud amount (1/8)','Relative humidity (%)','Precipitation intensity (mm/h)','Air temperature (degC)','Wind speed (m/s)']].values.reshape(-1, 9)\n",
    "y = bike_departures ['departures'].values.reshape(-1, 1).ravel()\n",
    "\n",
    "X_train, X_test, y_train, y_test = train_test_split(X, y, test_size=0.33, random_state=42)\n",
    "\n",
    "model = MLPRegressor(random_state = 1)\n",
    "model.fit(X_train,y_train)\n",
    "\n",
    "print(model.predict(X_test))\n",
    "print(y_test)\n",
    "\n",
    "round_predict = [ round(elem) for elem in model.predict(X_test) ]"
   ]
  },
  {
   "cell_type": "code",
   "execution_count": null,
   "metadata": {},
   "outputs": [
    {
     "data": {
      "text/plain": [
       "0.9333377663607878"
      ]
     },
     "execution_count": 8,
     "metadata": {},
     "output_type": "execute_result"
    }
   ],
   "source": [
    "sum(abs(a-b) <=1 for a,b in zip(round_predict,list(y_test.reshape(1, -1)[0])))/len(list(y_test.reshape(1, -1)[0]))"
   ]
  },
  {
   "cell_type": "code",
   "execution_count": null,
   "metadata": {},
   "outputs": [
    {
     "data": {
      "text/plain": [
       "0.5928660922396355"
      ]
     },
     "execution_count": 9,
     "metadata": {},
     "output_type": "execute_result"
    }
   ],
   "source": [
    "sum(abs(a-b) ==0 for a,b in zip(round_predict,list(y_test.reshape(1, -1)[0])))/len(list(y_test.reshape(1, -1)[0]))"
   ]
  },
  {
   "cell_type": "markdown",
   "metadata": {},
   "source": [
    "____\n",
    "Second test with more features"
   ]
  },
  {
   "cell_type": "code",
   "execution_count": 11,
   "metadata": {},
   "outputs": [
    {
     "data": {
      "text/html": [
       "<div>\n",
       "<style scoped>\n",
       "    .dataframe tbody tr th:only-of-type {\n",
       "        vertical-align: middle;\n",
       "    }\n",
       "\n",
       "    .dataframe tbody tr th {\n",
       "        vertical-align: top;\n",
       "    }\n",
       "\n",
       "    .dataframe thead th {\n",
       "        text-align: right;\n",
       "    }\n",
       "</style>\n",
       "<table border=\"1\" class=\"dataframe\">\n",
       "  <thead>\n",
       "    <tr style=\"text-align: right;\">\n",
       "      <th></th>\n",
       "      <th>Timestamp</th>\n",
       "      <th>id</th>\n",
       "      <th>arrivals</th>\n",
       "      <th>day_of_week</th>\n",
       "      <th>day_of_year</th>\n",
       "      <th>Cloud amount (1/8)</th>\n",
       "      <th>Relative humidity (%)</th>\n",
       "      <th>Precipitation intensity (mm/h)</th>\n",
       "      <th>Air temperature (degC)</th>\n",
       "      <th>Wind speed (m/s)</th>\n",
       "      <th>time</th>\n",
       "      <th>6hrs_ago</th>\n",
       "    </tr>\n",
       "  </thead>\n",
       "  <tbody>\n",
       "    <tr>\n",
       "      <th>0</th>\n",
       "      <td>2019-04-01 05:50:00</td>\n",
       "      <td>25</td>\n",
       "      <td>1</td>\n",
       "      <td>0</td>\n",
       "      <td>91</td>\n",
       "      <td>0.0</td>\n",
       "      <td>71.0</td>\n",
       "      <td>0.0</td>\n",
       "      <td>1.4</td>\n",
       "      <td>5.3</td>\n",
       "      <td>71</td>\n",
       "      <td>NaN</td>\n",
       "    </tr>\n",
       "    <tr>\n",
       "      <th>1</th>\n",
       "      <td>2019-04-01 05:55:00</td>\n",
       "      <td>83</td>\n",
       "      <td>1</td>\n",
       "      <td>0</td>\n",
       "      <td>91</td>\n",
       "      <td>0.0</td>\n",
       "      <td>71.0</td>\n",
       "      <td>0.0</td>\n",
       "      <td>1.4</td>\n",
       "      <td>5.3</td>\n",
       "      <td>72</td>\n",
       "      <td>NaN</td>\n",
       "    </tr>\n",
       "    <tr>\n",
       "      <th>2</th>\n",
       "      <td>2019-04-01 06:10:00</td>\n",
       "      <td>64</td>\n",
       "      <td>1</td>\n",
       "      <td>0</td>\n",
       "      <td>91</td>\n",
       "      <td>0.0</td>\n",
       "      <td>67.0</td>\n",
       "      <td>0.0</td>\n",
       "      <td>2.0</td>\n",
       "      <td>4.4</td>\n",
       "      <td>75</td>\n",
       "      <td>NaN</td>\n",
       "    </tr>\n",
       "    <tr>\n",
       "      <th>3</th>\n",
       "      <td>2019-04-01 06:15:00</td>\n",
       "      <td>114</td>\n",
       "      <td>1</td>\n",
       "      <td>0</td>\n",
       "      <td>91</td>\n",
       "      <td>0.0</td>\n",
       "      <td>67.0</td>\n",
       "      <td>0.0</td>\n",
       "      <td>2.0</td>\n",
       "      <td>4.4</td>\n",
       "      <td>76</td>\n",
       "      <td>NaN</td>\n",
       "    </tr>\n",
       "    <tr>\n",
       "      <th>4</th>\n",
       "      <td>2019-04-01 06:30:00</td>\n",
       "      <td>30</td>\n",
       "      <td>1</td>\n",
       "      <td>0</td>\n",
       "      <td>91</td>\n",
       "      <td>0.0</td>\n",
       "      <td>65.0</td>\n",
       "      <td>0.0</td>\n",
       "      <td>2.3</td>\n",
       "      <td>4.5</td>\n",
       "      <td>79</td>\n",
       "      <td>NaN</td>\n",
       "    </tr>\n",
       "    <tr>\n",
       "      <th>...</th>\n",
       "      <td>...</td>\n",
       "      <td>...</td>\n",
       "      <td>...</td>\n",
       "      <td>...</td>\n",
       "      <td>...</td>\n",
       "      <td>...</td>\n",
       "      <td>...</td>\n",
       "      <td>...</td>\n",
       "      <td>...</td>\n",
       "      <td>...</td>\n",
       "      <td>...</td>\n",
       "      <td>...</td>\n",
       "    </tr>\n",
       "    <tr>\n",
       "      <th>2652353</th>\n",
       "      <td>2019-11-03 15:50:00</td>\n",
       "      <td>260</td>\n",
       "      <td>1</td>\n",
       "      <td>6</td>\n",
       "      <td>307</td>\n",
       "      <td>3.0</td>\n",
       "      <td>96.0</td>\n",
       "      <td>0.0</td>\n",
       "      <td>1.9</td>\n",
       "      <td>2.3</td>\n",
       "      <td>191</td>\n",
       "      <td>NaN</td>\n",
       "    </tr>\n",
       "    <tr>\n",
       "      <th>2652354</th>\n",
       "      <td>2019-11-03 16:55:00</td>\n",
       "      <td>731</td>\n",
       "      <td>1</td>\n",
       "      <td>6</td>\n",
       "      <td>307</td>\n",
       "      <td>0.0</td>\n",
       "      <td>98.0</td>\n",
       "      <td>0.0</td>\n",
       "      <td>1.0</td>\n",
       "      <td>2.4</td>\n",
       "      <td>204</td>\n",
       "      <td>NaN</td>\n",
       "    </tr>\n",
       "    <tr>\n",
       "      <th>2652355</th>\n",
       "      <td>2019-11-04 06:55:00</td>\n",
       "      <td>551</td>\n",
       "      <td>1</td>\n",
       "      <td>0</td>\n",
       "      <td>308</td>\n",
       "      <td>7.0</td>\n",
       "      <td>84.0</td>\n",
       "      <td>0.0</td>\n",
       "      <td>-1.1</td>\n",
       "      <td>5.0</td>\n",
       "      <td>84</td>\n",
       "      <td>NaN</td>\n",
       "    </tr>\n",
       "    <tr>\n",
       "      <th>2652356</th>\n",
       "      <td>2019-11-04 10:30:00</td>\n",
       "      <td>138</td>\n",
       "      <td>2</td>\n",
       "      <td>0</td>\n",
       "      <td>308</td>\n",
       "      <td>7.0</td>\n",
       "      <td>77.0</td>\n",
       "      <td>0.0</td>\n",
       "      <td>0.0</td>\n",
       "      <td>5.2</td>\n",
       "      <td>127</td>\n",
       "      <td>NaN</td>\n",
       "    </tr>\n",
       "    <tr>\n",
       "      <th>2652357</th>\n",
       "      <td>2019-11-04 11:20:00</td>\n",
       "      <td>525</td>\n",
       "      <td>1</td>\n",
       "      <td>0</td>\n",
       "      <td>308</td>\n",
       "      <td>0.0</td>\n",
       "      <td>76.0</td>\n",
       "      <td>0.0</td>\n",
       "      <td>0.1</td>\n",
       "      <td>5.5</td>\n",
       "      <td>137</td>\n",
       "      <td>NaN</td>\n",
       "    </tr>\n",
       "  </tbody>\n",
       "</table>\n",
       "<p>2652358 rows × 12 columns</p>\n",
       "</div>"
      ],
      "text/plain": [
       "                   Timestamp   id  arrivals  day_of_week  day_of_year  \\\n",
       "0        2019-04-01 05:50:00   25         1            0           91   \n",
       "1        2019-04-01 05:55:00   83         1            0           91   \n",
       "2        2019-04-01 06:10:00   64         1            0           91   \n",
       "3        2019-04-01 06:15:00  114         1            0           91   \n",
       "4        2019-04-01 06:30:00   30         1            0           91   \n",
       "...                      ...  ...       ...          ...          ...   \n",
       "2652353  2019-11-03 15:50:00  260         1            6          307   \n",
       "2652354  2019-11-03 16:55:00  731         1            6          307   \n",
       "2652355  2019-11-04 06:55:00  551         1            0          308   \n",
       "2652356  2019-11-04 10:30:00  138         2            0          308   \n",
       "2652357  2019-11-04 11:20:00  525         1            0          308   \n",
       "\n",
       "         Cloud amount (1/8)  Relative humidity (%)  \\\n",
       "0                       0.0                   71.0   \n",
       "1                       0.0                   71.0   \n",
       "2                       0.0                   67.0   \n",
       "3                       0.0                   67.0   \n",
       "4                       0.0                   65.0   \n",
       "...                     ...                    ...   \n",
       "2652353                 3.0                   96.0   \n",
       "2652354                 0.0                   98.0   \n",
       "2652355                 7.0                   84.0   \n",
       "2652356                 7.0                   77.0   \n",
       "2652357                 0.0                   76.0   \n",
       "\n",
       "         Precipitation intensity (mm/h)  Air temperature (degC)  \\\n",
       "0                                   0.0                     1.4   \n",
       "1                                   0.0                     1.4   \n",
       "2                                   0.0                     2.0   \n",
       "3                                   0.0                     2.0   \n",
       "4                                   0.0                     2.3   \n",
       "...                                 ...                     ...   \n",
       "2652353                             0.0                     1.9   \n",
       "2652354                             0.0                     1.0   \n",
       "2652355                             0.0                    -1.1   \n",
       "2652356                             0.0                     0.0   \n",
       "2652357                             0.0                     0.1   \n",
       "\n",
       "         Wind speed (m/s)  time  6hrs_ago  \n",
       "0                     5.3    71       NaN  \n",
       "1                     5.3    72       NaN  \n",
       "2                     4.4    75       NaN  \n",
       "3                     4.4    76       NaN  \n",
       "4                     4.5    79       NaN  \n",
       "...                   ...   ...       ...  \n",
       "2652353               2.3   191       NaN  \n",
       "2652354               2.4   204       NaN  \n",
       "2652355               5.0    84       NaN  \n",
       "2652356               5.2   127       NaN  \n",
       "2652357               5.5   137       NaN  \n",
       "\n",
       "[2652358 rows x 12 columns]"
      ]
     },
     "execution_count": 11,
     "metadata": {},
     "output_type": "execute_result"
    }
   ],
   "source": [
    "import numpy as np\n",
    "bike_arrivals['6hrs_ago'] = np.nan\n",
    "bike_arrivals"
   ]
  },
  {
   "cell_type": "code",
   "execution_count": 10,
   "metadata": {},
   "outputs": [
    {
     "name": "stderr",
     "output_type": "stream",
     "text": [
      "C:\\Users\\katio\\AppData\\Local\\Programs\\Python\\Python37\\lib\\site-packages\\numpy\\lib\\arraysetops.py:580: FutureWarning: elementwise comparison failed; returning scalar instead, but in the future will perform elementwise comparison\n",
      "  mask |= (ar1 == a)\n"
     ]
    },
    {
     "data": {
      "text/html": [
       "<div>\n",
       "<style scoped>\n",
       "    .dataframe tbody tr th:only-of-type {\n",
       "        vertical-align: middle;\n",
       "    }\n",
       "\n",
       "    .dataframe tbody tr th {\n",
       "        vertical-align: top;\n",
       "    }\n",
       "\n",
       "    .dataframe thead th {\n",
       "        text-align: right;\n",
       "    }\n",
       "</style>\n",
       "<table border=\"1\" class=\"dataframe\">\n",
       "  <thead>\n",
       "    <tr style=\"text-align: right;\">\n",
       "      <th></th>\n",
       "      <th>id</th>\n",
       "      <th>bikesAvailable</th>\n",
       "      <th>spacesAvailable</th>\n",
       "      <th>Timestamp</th>\n",
       "    </tr>\n",
       "  </thead>\n",
       "  <tbody>\n",
       "    <tr>\n",
       "      <th>0</th>\n",
       "      <td>591</td>\n",
       "      <td>4</td>\n",
       "      <td>20</td>\n",
       "      <td>2019-04-02 13:55:00</td>\n",
       "    </tr>\n",
       "    <tr>\n",
       "      <th>3</th>\n",
       "      <td>110</td>\n",
       "      <td>1</td>\n",
       "      <td>19</td>\n",
       "      <td>2019-04-02 13:55:00</td>\n",
       "    </tr>\n",
       "    <tr>\n",
       "      <th>5</th>\n",
       "      <td>111</td>\n",
       "      <td>1</td>\n",
       "      <td>19</td>\n",
       "      <td>2019-04-02 13:55:00</td>\n",
       "    </tr>\n",
       "    <tr>\n",
       "      <th>7</th>\n",
       "      <td>595</td>\n",
       "      <td>3</td>\n",
       "      <td>13</td>\n",
       "      <td>2019-04-02 13:55:00</td>\n",
       "    </tr>\n",
       "    <tr>\n",
       "      <th>8</th>\n",
       "      <td>112</td>\n",
       "      <td>10</td>\n",
       "      <td>12</td>\n",
       "      <td>2019-04-02 13:55:00</td>\n",
       "    </tr>\n",
       "    <tr>\n",
       "      <th>...</th>\n",
       "      <td>...</td>\n",
       "      <td>...</td>\n",
       "      <td>...</td>\n",
       "      <td>...</td>\n",
       "    </tr>\n",
       "    <tr>\n",
       "      <th>25965948</th>\n",
       "      <td>511</td>\n",
       "      <td>4</td>\n",
       "      <td>7</td>\n",
       "      <td>2019-11-11 11:45:00</td>\n",
       "    </tr>\n",
       "    <tr>\n",
       "      <th>25965955</th>\n",
       "      <td>516</td>\n",
       "      <td>1</td>\n",
       "      <td>9</td>\n",
       "      <td>2019-11-11 11:45:00</td>\n",
       "    </tr>\n",
       "    <tr>\n",
       "      <th>25965957</th>\n",
       "      <td>514</td>\n",
       "      <td>7</td>\n",
       "      <td>4</td>\n",
       "      <td>2019-11-11 11:45:00</td>\n",
       "    </tr>\n",
       "    <tr>\n",
       "      <th>25965968</th>\n",
       "      <td>521</td>\n",
       "      <td>5</td>\n",
       "      <td>7</td>\n",
       "      <td>2019-11-11 11:45:00</td>\n",
       "    </tr>\n",
       "    <tr>\n",
       "      <th>25965971</th>\n",
       "      <td>526</td>\n",
       "      <td>4</td>\n",
       "      <td>8</td>\n",
       "      <td>2019-11-11 11:45:00</td>\n",
       "    </tr>\n",
       "  </tbody>\n",
       "</table>\n",
       "<p>22283214 rows × 4 columns</p>\n",
       "</div>"
      ],
      "text/plain": [
       "           id  bikesAvailable  spacesAvailable            Timestamp\n",
       "0         591               4               20  2019-04-02 13:55:00\n",
       "3         110               1               19  2019-04-02 13:55:00\n",
       "5         111               1               19  2019-04-02 13:55:00\n",
       "7         595               3               13  2019-04-02 13:55:00\n",
       "8         112              10               12  2019-04-02 13:55:00\n",
       "...       ...             ...              ...                  ...\n",
       "25965948  511               4                7  2019-11-11 11:45:00\n",
       "25965955  516               1                9  2019-11-11 11:45:00\n",
       "25965957  514               7                4  2019-11-11 11:45:00\n",
       "25965968  521               5                7  2019-11-11 11:45:00\n",
       "25965971  526               4                8  2019-11-11 11:45:00\n",
       "\n",
       "[22283214 rows x 4 columns]"
      ]
     },
     "execution_count": 10,
     "metadata": {},
     "output_type": "execute_result"
    }
   ],
   "source": [
    "bikes = pd.read_csv('station_with_bikes.csv',header=0,index_col=0)\n",
    "bikes"
   ]
  }
 ],
 "metadata": {
  "interpreter": {
   "hash": "504d2066713d4c62b5cef0b0e33045341869b20348e2e9ebbcb94216e063f385"
  },
  "kernelspec": {
   "display_name": "Python 3.7.4 64-bit",
   "name": "python3"
  },
  "language_info": {
   "codemirror_mode": {
    "name": "ipython",
    "version": 3
   },
   "file_extension": ".py",
   "mimetype": "text/x-python",
   "name": "python",
   "nbconvert_exporter": "python",
   "pygments_lexer": "ipython3",
   "version": "3.7.4"
  },
  "orig_nbformat": 4
 },
 "nbformat": 4,
 "nbformat_minor": 2
}
